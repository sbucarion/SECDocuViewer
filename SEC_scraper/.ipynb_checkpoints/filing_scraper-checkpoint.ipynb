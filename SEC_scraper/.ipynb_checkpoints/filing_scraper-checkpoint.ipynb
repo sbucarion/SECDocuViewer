{
 "cells": [
  {
   "cell_type": "code",
   "execution_count": 306,
   "id": "f6a9d2f3",
   "metadata": {},
   "outputs": [],
   "source": [
    "import re\n",
    "import time\n",
    "import requests\n",
    "from bs4 import BeautifulSoup\n",
    "import pdfkit\n",
    "import sqlite3\n",
    "import os \n",
    "from datetime import datetime\n",
    "from sec_cik_mapper import StockMapper\n",
    "\n",
    "\n",
    "def get_all_filings(soup):\n",
    "    #Go through all filings with html text and accerssion\n",
    "    filings = []\n",
    "    for row in soup.findAll(\"tr\"):\n",
    "        if \"Accession Number\" in row.text:\n",
    "            filings.append(row)\n",
    "            \n",
    "    return filings\n",
    "\n",
    "\n",
    "def get_acc_no(filing):\n",
    "    text = filing.findAll('td')[2].text\n",
    "    \n",
    "    # Extract the accession number using regex\n",
    "    match = re.search(r\"Accession Number: (\\d{10}-\\d{2}-\\d{6})\", text)\n",
    "    if match:\n",
    "        accession_number = match.group(1)\n",
    "        return (accession_number)\n",
    "\n",
    "\n",
    "def get_filing_time(filing):\n",
    "    time_data = filing.findAll('td')[3]\n",
    "    date = time_data.contents[0]\n",
    "    time = time_data.contents[2]\n",
    "    \n",
    "    datetime_obj = datetime.strptime(date + \" \" + time, '%Y-%m-%d %H:%M:%S')\n",
    "    unix_time = int(datetime_obj.timestamp())\n",
    "    \n",
    "    return unix_time\n",
    "\n",
    "\n",
    "def get_filing_detail_link(filing):\n",
    "    for links in filing_rows[0].findAll('a'):\n",
    "        href = links['href']\n",
    "\n",
    "        if \".htm\" in href:\n",
    "            return r\"http://sec.gov\" + href\n",
    "\n",
    "        \n",
    "def get_filing_file_links(filing_div, main_file_type):\n",
    "    links = {\n",
    "        \"main\": \"\",\n",
    "        \"supporting\": []\n",
    "    }\n",
    "\n",
    "    for row in filing_div.find('table').findAll('tr'):\n",
    "        if row.find('th') == None:\n",
    "            try:\n",
    "\n",
    "                file_type = row.findAll('td')[3].text\n",
    "                if file_type == '\\xa0':\n",
    "                    continue\n",
    "\n",
    "                link = \"http://sec.gov\" + row.find('a')['href']\n",
    "                \n",
    "                if file_type == main_file_type and links[\"main\"] == \"\":\n",
    "                    links[\"main\"] = link\n",
    "\n",
    "                if file_type != main_file_type:\n",
    "                    links[\"supporting\"].append(link)\n",
    "                    \n",
    "                    \n",
    "\n",
    "            except:\n",
    "                continue\n",
    "                \n",
    "    return links \n",
    "        \n",
    "\n",
    "def get_filers_data(filers_div):\n",
    "    filers_info = []\n",
    "    \n",
    "    for filer in filers_div.findAll('div', id='filerDiv'):\n",
    "        filer_info = filer.find(\"span\", \"companyName\").text.lower()\n",
    "\n",
    "        filer_cik = re.search(r\"cik:\\s+(\\d+)\", filer_info).group(1)\n",
    "        filer_name = re.search(r'^(.*?)\\s*\\(', filer_info).group(1)\n",
    "\n",
    "        filer_type = re.findall(r'\\((reporting|issuer|issuer|filer)\\)', filer_info)[0]\n",
    "\n",
    "        try:\n",
    "            ticker = list(mapper.cik_to_tickers[filer_cik])[0]\n",
    "\n",
    "        except KeyError as e:\n",
    "            ticker = \"FUND\"\n",
    "\n",
    "\n",
    "        filer_info = {\n",
    "            \"cik\": filer_cik,\n",
    "            \"company_name\": filer_name,\n",
    "            \"filer_ticker\": ticker,\n",
    "            \"filer_type\": filer_type,\n",
    "        }\n",
    "        \n",
    "        filers_info.append(filer_info)\n",
    "\n",
    "\n",
    "    return filers_info\n",
    "        \n",
    "        \n",
    "        \n",
    "def get_filing_metadata(filing_detail_link, filing_type):\n",
    "    \"\"\"returns meta data (report cik, and name) and links to files to download later\"\"\"\n",
    "    filing_detail_request = requests.get(filing_detail_link, headers=headers).text\n",
    "    filing_detail_soup = BeautifulSoup(filing_detail_request, \"html.parser\")\n",
    "    \n",
    "    #Location of filers info and filing pdf links \n",
    "    filing_detail_data = filing_detail_soup.find('div', id='contentDiv')\n",
    "    \n",
    "    #Extract the people/entites filing the form/report\n",
    "    filers_data = get_filers_data(filing_detail_data)\n",
    "    \n",
    "    #Extract the links to the pdfs from the details page\n",
    "    filing_forms = filing_detail_data.findAll('div', id='formDiv')[1] #where main file and supporting docs are\n",
    "    filing_file_links = get_filing_file_links(filing_forms, filing_type)\n",
    "\n",
    "    \n",
    "    return filers_data, filing_file_links\n",
    "\n",
    "        \n",
    "        \n",
    "        \n",
    "def handle_form4(form4_filing):\n",
    "    \"\"\"form 4 has multiple ciks associated with it because\n",
    "        and individual reports for a comapny so both the \n",
    "        individuals cik and the companys cik will be on it\"\"\"\n",
    "    \n",
    "    return\n",
    "\n",
    "\n",
    "\n",
    "headers = {\n",
    "\"User-agent\":\"Mozilla/5.0 (X11; Linux x86_64) AppleWebKit/537.36 (KHTML, like Gecko) Chrome/77.0.3865.120 Safari/537.36\"\n",
    "}\n",
    "\n",
    "latest_filings_url = \\\n",
    "r\"https://www.sec.gov/cgi-bin/browse-edgar?company=&CIK=&type=&owner=include&count=100&action=getcurrent\"\n",
    "\n",
    "max_unix = 0\n",
    "mapper = StockMapper()\n",
    "\n",
    "#while True starts jhere\n",
    "\n",
    "latest_filings = requests.get(latest_filings_url, headers=headers).text\n",
    "filings_soup = BeautifulSoup(latest_filings, \"html.parser\")\n",
    "\n",
    "# each filing is an individual 'tr' tag with metadata like acc_no, file type, and unix\n",
    "# this var stores all filing rows by finding if \"accession number\" is in the rows text\n",
    "filing_rows = get_all_filings(filings_soup)\n",
    "\n",
    "for filing in filing_rows:\n",
    "    #converts the file timestamp (Y-m-d H:M:S) to unix for easy comparision\n",
    "    #we will skip all files with less unix thnt max unix filing already found\n",
    "    #because it means we have already scraped the file\n",
    "    filing_unix_time = get_filing_time(filing)\n",
    "    \n",
    "    \n",
    "    #means filing is older than most recently scrapped filing so it means weve already scraped this filing\n",
    "    if max_unix >= filing_unix_time:\n",
    "        continue\n",
    "        \n",
    "    #unique identifier for each filing (form 4s have same one for reporter and issuer)\n",
    "    filing_acc_no = get_acc_no(filing)\n",
    "    \n",
    "    #Get filing type here since its easier that on filing detail page\n",
    "    filing_type = filing.findAll('td')[0].text\n",
    "    \n",
    "    \n",
    "    #each link to filing on latest filing brings up a page with the file and supporting documents and meta data\n",
    "    #the filing_detail_link takes us to that page to download metadata and the files\n",
    "    filing_detail_link = get_filing_detail_link(filing)\n",
    "    \n",
    "    \n",
    "    metadata = {\n",
    "        \"unix\": filing_unix_time,\n",
    "        \"filing_type\": filing_type,\n",
    "        \"accession_no\": filing_acc_no\n",
    "    }\n",
    "    \n",
    "    \n",
    "    #Could wrap all of the above but too lazy\n",
    "    \n",
    "    #Now request filing detail page where we can scrape metadata, supporting docs and the main filing\n",
    "    metadata[\"filers\"], metadata[\"filing_links\"] = get_filing_metadata(filing_detail_link, filing_type)\n",
    "    \n",
    "    \n",
    "    #Now save to database and download pdfs\n",
    "    #edge cases: if we have reporter and issuer should we combine files and ignore the reporter (usually a person)\n",
    "    \n",
    "    break\n",
    "    \n",
    "    \n",
    "    \n",
    "    #for looking up one company we have all files stored in folders with acc no as folder names\n",
    "    #in database we have those accessions tied to the cik of the company as issuer, reporter or something else\n",
    "    "
   ]
  },
  {
   "cell_type": "code",
   "execution_count": 307,
   "id": "01fff997",
   "metadata": {},
   "outputs": [
    {
     "data": {
      "text/plain": [
       "{'unix': 1686621468,\n",
       " 'filing_type': '4',\n",
       " 'accession_no': '0000902664-23-003537',\n",
       " 'filers': [{'cik': '0001510589',\n",
       "   'company_name': 'hillhouse investment management, ltd.',\n",
       "   'filer_ticker': 'FUND',\n",
       "   'filer_type': 'reporting'},\n",
       "  {'cik': '0001651308',\n",
       "   'company_name': 'beigene, ltd.',\n",
       "   'filer_ticker': 'BGNE',\n",
       "   'filer_type': 'issuer'},\n",
       "  {'cik': '0001762304',\n",
       "   'company_name': 'hhlr advisors, ltd.',\n",
       "   'filer_ticker': 'FUND',\n",
       "   'filer_type': 'reporting'}],\n",
       " 'filing_links': {'main': 'http://sec.gov/Archives/edgar/data/1510589/000090266423003537/xslF345X04/ownership.xml',\n",
       "  'supporting': []}}"
      ]
     },
     "execution_count": 307,
     "metadata": {},
     "output_type": "execute_result"
    }
   ],
   "source": [
    "metadata"
   ]
  },
  {
   "cell_type": "code",
   "execution_count": 270,
   "id": "2217ef89",
   "metadata": {},
   "outputs": [],
   "source": [
    "def get_filing_file_links(filing_div, main_file_type):\n",
    "    links = {\n",
    "        \"main\": \"\",\n",
    "        \"supporting\": []\n",
    "    }\n",
    "\n",
    "    for row in filing_div.find('table').findAll('tr'):\n",
    "        if row.find('th') == None:\n",
    "            try:\n",
    "\n",
    "                file_type = row.findAll('td')[3].text\n",
    "                if file_type == '\\xa0':\n",
    "                    continue\n",
    "\n",
    "                link = \"http://sec.gov\" + row.find('a')['href']\n",
    "                print(link)\n",
    "\n",
    "                if file_type == main_file_type and links[\"main\"] == \"\":\n",
    "                    links[\"main\"] = link\n",
    "\n",
    "                if file_type != main_file_type:\n",
    "                    links[\"supporting\"].append(link)\n",
    "\n",
    "            except:\n",
    "                continue\n",
    "                \n",
    "        return links"
   ]
  },
  {
   "cell_type": "code",
   "execution_count": 269,
   "id": "5edeb34e",
   "metadata": {},
   "outputs": [
    {
     "data": {
      "text/plain": [
       "{'main': 'http://sec.gov/Archives/edgar/data/1510589/000090266423003537/xslF345X04/ownership.xml',\n",
       " 'supporting': []}"
      ]
     },
     "execution_count": 269,
     "metadata": {},
     "output_type": "execute_result"
    }
   ],
   "source": [
    "links"
   ]
  },
  {
   "cell_type": "code",
   "execution_count": 259,
   "id": "b469273e",
   "metadata": {},
   "outputs": [
    {
     "data": {
      "text/plain": [
       "'\\xa0'"
      ]
     },
     "execution_count": 259,
     "metadata": {},
     "output_type": "execute_result"
    }
   ],
   "source": [
    "file_type"
   ]
  },
  {
   "cell_type": "code",
   "execution_count": 96,
   "id": "30a1d6be",
   "metadata": {},
   "outputs": [],
   "source": [
    "pewee = get_filing_metadata(filing_detail_link)"
   ]
  },
  {
   "cell_type": "code",
   "execution_count": 110,
   "id": "a938cb35",
   "metadata": {},
   "outputs": [
    {
     "data": {
      "text/plain": [
       "<div id=\"filerDiv\">\n",
       "<div class=\"mailer\">Mailing Address\n",
       "      <span class=\"mailerAddress\">C/O MOURANT GOVERNANCE SERVICES (CAYMAN)</span>\n",
       "<span class=\"mailerAddress\">94 SOLARIS AVENUE, CAMANA BAY</span>\n",
       "<span class=\"mailerAddress\">\n",
       "GRAND CAYMAN E9 KY1-1108      </span>\n",
       "</div>\n",
       "<div class=\"mailer\">Business Address\n",
       "      <span class=\"mailerAddress\">C/O MOURANT GOVERNANCE SERVICES (CAYMAN)</span>\n",
       "<span class=\"mailerAddress\">94 SOLARIS AVENUE, CAMANA BAY</span>\n",
       "<span class=\"mailerAddress\">\n",
       "GRAND CAYMAN E9 KY1-1108      </span>\n",
       "<span class=\"mailerAddress\">13459494123</span>\n",
       "</div>\n",
       "<div class=\"companyInfo\">\n",
       "<span class=\"companyName\">BeiGene, Ltd. (<a href=\"/cgi-bin/own-disp?CIK=0001651308&amp;action=getissuer\">Issuer</a>)\n",
       " <acronym title=\"Central Index Key\">CIK</acronym>: <a href=\"/cgi-bin/browse-edgar?CIK=0001651308&amp;action=getcompany\">0001651308 (see all company filings)</a></span>\n",
       "<p class=\"identInfo\"><acronym title=\"Internal Revenue Service Number\">IRS No.</acronym>: <strong>981209416</strong> | Fiscal Year End: <strong>1231</strong><br/><acronym title=\"Standard Industrial Code\">SIC</acronym>: <b><a href=\"/cgi-bin/browse-edgar?action=getcompany&amp;SIC=2834&amp;owner=include\">2834</a></b> Pharmaceutical Preparations<br/>Office of Life Sciences</p>\n",
       "</div>\n",
       "<div class=\"clear\"></div>\n",
       "</div>"
      ]
     },
     "execution_count": 110,
     "metadata": {},
     "output_type": "execute_result"
    }
   ],
   "source": [
    "pewee.findAll('div', id='filerDiv')[1]"
   ]
  },
  {
   "cell_type": "code",
   "execution_count": null,
   "id": "473c7782",
   "metadata": {},
   "outputs": [],
   "source": [
    "class companyName"
   ]
  },
  {
   "cell_type": "code",
   "execution_count": 177,
   "id": "561adee6",
   "metadata": {},
   "outputs": [],
   "source": [
    "from sec_cik_mapper import StockMapper\n",
    "\n",
    "\n",
    "def get_filers_data(filing):\n",
    "    filers_info = []\n",
    "\n",
    "    for filer in filing.findAll('div', id='filerDiv'):\n",
    "        filer_info = filer.find(\"span\", \"companyName\").text.lower()\n",
    "\n",
    "        filer_cik = re.search(r\"cik:\\s+(\\d+)\", filer_info).group(1)\n",
    "        filer_name = re.search(r'^(.*?)\\s*\\(', filer_info).group(1)\n",
    "\n",
    "        filer_type = re.findall(r'\\((reporting|issuer|issuer)\\)', filer_info)\n",
    "\n",
    "        try:\n",
    "            ticker = list(mapper.cik_to_tickers[filer_cik])[0]\n",
    "\n",
    "        except KeyError as e:\n",
    "            ticker = \"FUND\"\n",
    "\n",
    "\n",
    "        filer_info = {\n",
    "            \"cik\": filer_cik,\n",
    "            \"company_name\": filer_name,\n",
    "            \"filer_ticker\": ticker,\n",
    "            \"filer_type\": filer_type,\n",
    "        }\n",
    "\n",
    "\n",
    "    return filers_info"
   ]
  },
  {
   "cell_type": "code",
   "execution_count": null,
   "id": "f554ada8",
   "metadata": {},
   "outputs": [],
   "source": [
    "get_filers_data(filing)"
   ]
  },
  {
   "cell_type": "code",
   "execution_count": 164,
   "id": "90015b57",
   "metadata": {},
   "outputs": [
    {
     "data": {
      "text/plain": [
       "'HHLR ADVISORS, LTD.'"
      ]
     },
     "execution_count": 164,
     "metadata": {},
     "output_type": "execute_result"
    }
   ],
   "source": [
    "re.search(r'^(.*?)\\s*\\(', 'HHLR ADVISORS, LTD. (Reporting)\\n CIK: 0001762304 (see all company filings)').group(1)"
   ]
  },
  {
   "cell_type": "code",
   "execution_count": 132,
   "id": "508a12f1",
   "metadata": {},
   "outputs": [
    {
     "data": {
      "text/plain": [
       "'hillhouse investment management, ltd. (reporting)\\n cik: 0001510589 (see all company filings)'"
      ]
     },
     "execution_count": 132,
     "metadata": {},
     "output_type": "execute_result"
    }
   ],
   "source": [
    "filer_info"
   ]
  },
  {
   "cell_type": "code",
   "execution_count": 123,
   "id": "bca9e1a1",
   "metadata": {},
   "outputs": [
    {
     "data": {
      "text/plain": [
       "'HHLR ADVISORS, LTD. (Reporting)\\n CIK: 0001762304 (see all company filings)'"
      ]
     },
     "execution_count": 123,
     "metadata": {},
     "output_type": "execute_result"
    }
   ],
   "source": [
    "filer.find(\"span\", \"companyName\").text"
   ]
  },
  {
   "cell_type": "code",
   "execution_count": 127,
   "id": "f3f72a39",
   "metadata": {},
   "outputs": [
    {
     "data": {
      "text/plain": [
       "'0001762304'"
      ]
     },
     "execution_count": 127,
     "metadata": {},
     "output_type": "execute_result"
    }
   ],
   "source": [
    "re.search(r\"CIK:\\s+(\\d+)\", filer.find(\"span\", \"companyName\").text).group(1)"
   ]
  },
  {
   "cell_type": "code",
   "execution_count": 130,
   "id": "49e4b748",
   "metadata": {},
   "outputs": [
    {
     "data": {
      "text/plain": [
       "'HHLR ADVISORS, LTD. (Reporting)\\n CIK: 0001762304 (see all company filings)'"
      ]
     },
     "execution_count": 130,
     "metadata": {},
     "output_type": "execute_result"
    }
   ],
   "source": [
    "filer.find(\"span\", \"companyName\").text"
   ]
  },
  {
   "cell_type": "code",
   "execution_count": 150,
   "id": "408ac407",
   "metadata": {},
   "outputs": [],
   "source": [
    "from sec_cik_mapper import StockMapper"
   ]
  },
  {
   "cell_type": "code",
   "execution_count": 159,
   "id": "9e8bbaca",
   "metadata": {},
   "outputs": [
    {
     "ename": "KeyError",
     "evalue": "'0001510589'",
     "output_type": "error",
     "traceback": [
      "\u001b[1;31m---------------------------------------------------------------------------\u001b[0m",
      "\u001b[1;31mKeyError\u001b[0m                                  Traceback (most recent call last)",
      "\u001b[1;32m~\\AppData\\Local\\Temp\\ipykernel_315580\\2584382887.py\u001b[0m in \u001b[0;36m<module>\u001b[1;34m\u001b[0m\n\u001b[1;32m----> 1\u001b[1;33m \u001b[0mStockMapper\u001b[0m\u001b[1;33m(\u001b[0m\u001b[1;33m)\u001b[0m\u001b[1;33m.\u001b[0m\u001b[0mcik_to_company_name\u001b[0m\u001b[1;33m[\u001b[0m\u001b[1;34m\"0001510589\"\u001b[0m\u001b[1;33m]\u001b[0m\u001b[1;33m\u001b[0m\u001b[1;33m\u001b[0m\u001b[0m\n\u001b[0m",
      "\u001b[1;31mKeyError\u001b[0m: '0001510589'"
     ]
    }
   ],
   "source": [
    "StockMapper().cik_to_company_name[\"0001510589\"]"
   ]
  },
  {
   "cell_type": "code",
   "execution_count": 147,
   "id": "5ae7cc95",
   "metadata": {},
   "outputs": [],
   "source": [
    "from secedgar.cik_lookup import CIKLookup\n",
    "\n",
    "lookups = CIKLookup(['0001510589'],\n",
    "                    user_agent=\"Name (email)\")"
   ]
  },
  {
   "cell_type": "code",
   "execution_count": 148,
   "id": "60712c7d",
   "metadata": {},
   "outputs": [
    {
     "data": {
      "text/plain": [
       "{'0001510589': '0001510589'}"
      ]
     },
     "execution_count": 148,
     "metadata": {},
     "output_type": "execute_result"
    }
   ],
   "source": [
    "lookups.lookup_dict "
   ]
  },
  {
   "cell_type": "code",
   "execution_count": null,
   "id": "20473440",
   "metadata": {},
   "outputs": [],
   "source": [
    "#form 4 and 3s are filed seperatley for issuer and reproter\n",
    "#however they share same accession number and files, just different names for who file\n",
    "#So we can group as one file perhaps"
   ]
  },
  {
   "cell_type": "code",
   "execution_count": 81,
   "id": "5dfce308",
   "metadata": {},
   "outputs": [
    {
     "data": {
      "text/plain": [
       "{'unix': 1686621468,\n",
       " 'filing_type': '4',\n",
       " 'accession_no': '0000902664-23-003537'}"
      ]
     },
     "execution_count": 81,
     "metadata": {},
     "output_type": "execute_result"
    }
   ],
   "source": [
    "metadata"
   ]
  },
  {
   "cell_type": "code",
   "execution_count": null,
   "id": "b6fd8114",
   "metadata": {},
   "outputs": [],
   "source": []
  }
 ],
 "metadata": {
  "kernelspec": {
   "display_name": "Python 3 (ipykernel)",
   "language": "python",
   "name": "python3"
  },
  "language_info": {
   "codemirror_mode": {
    "name": "ipython",
    "version": 3
   },
   "file_extension": ".py",
   "mimetype": "text/x-python",
   "name": "python",
   "nbconvert_exporter": "python",
   "pygments_lexer": "ipython3",
   "version": "3.9.13"
  }
 },
 "nbformat": 4,
 "nbformat_minor": 5
}
